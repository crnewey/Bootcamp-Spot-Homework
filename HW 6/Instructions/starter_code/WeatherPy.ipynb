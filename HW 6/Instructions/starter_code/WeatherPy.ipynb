{
 "cells": [
  {
   "cell_type": "markdown",
   "metadata": {},
   "source": [
    "# WeatherPy\n",
    "----\n",
    "\n",
    "#### Note\n",
    "* Instructions have been included for each segment. You do not have to follow them exactly, but they are included to help you think through the steps."
   ]
  },
  {
   "cell_type": "code",
   "execution_count": 24,
   "metadata": {
    "scrolled": true
   },
   "outputs": [],
   "source": [
    "# Dependencies and Setup\n",
    "# !pip install citipy\n",
    "import matplotlib.pyplot as plt\n",
    "import pandas as pd\n",
    "import numpy as np\n",
    "import requests\n",
    "import time\n",
    "import json\n",
    "\n",
    "# Import API key\n",
    "# from api_keys import api_key\n",
    "\n",
    "# api_key = \"USE YOUR OWN API KEY\"\n",
    "\n",
    "# Incorporated citipy to determine city based on latitude and longitude\n",
    "from citipy import citipy\n",
    "\n",
    "# Output File (CSV)\n",
    "output_data_file = \"output_data/cities.csv\"\n",
    "\n",
    "# Range of latitudes and longitudes\n",
    "lat_range = (-90, 90)\n",
    "lng_range = (-180, 180)"
   ]
  },
  {
   "cell_type": "markdown",
   "metadata": {},
   "source": [
    "## Generate Cities List"
   ]
  },
  {
   "cell_type": "code",
   "execution_count": 25,
   "metadata": {},
   "outputs": [
    {
     "data": {
      "text/plain": [
       "612"
      ]
     },
     "execution_count": 25,
     "metadata": {},
     "output_type": "execute_result"
    }
   ],
   "source": [
    "# List for holding lat_lngs and cities\n",
    "lat_lngs = []\n",
    "cities = []\n",
    "\n",
    "# Create a set of random lat and lng combinations\n",
    "lats = np.random.uniform(low=-90.000, high=90.000, size=1500)\n",
    "lngs = np.random.uniform(low=-180.000, high=180.000, size=1500)\n",
    "lat_lngs = zip(lats, lngs)\n",
    "\n",
    "# Identify nearest city for each lat, lng combination\n",
    "for lat_lng in lat_lngs:\n",
    "    city = citipy.nearest_city(lat_lng[0], lat_lng[1]).city_name\n",
    "    \n",
    "    # If the city is unique, then add it to a our cities list\n",
    "    if city not in cities:\n",
    "        cities.append(city)\n",
    "\n",
    "# Print the city count to confirm sufficient count\n",
    "len(cities)"
   ]
  },
  {
   "cell_type": "code",
   "execution_count": 26,
   "metadata": {},
   "outputs": [],
   "source": [
    "import gzip\n",
    "# with gzip.open(\"city.list.json.gz\", \"rb\") as f:\n",
    "#     data = json.loads(f.read().decode(\"ascii\"))"
   ]
  },
  {
   "cell_type": "code",
   "execution_count": 27,
   "metadata": {},
   "outputs": [],
   "source": [
    "citilistpath = \"starter_code/city.list.json\"\n",
    "# with gzip.open(citilistpath, 'rt', encoding='ascii') as zipfile:\n",
    "#     citilist = json.load(zipfile)\n",
    "    \n",
    "# #Create a dataframe with the data for all cities\n",
    "# citilistdf = pd.read_json(citilistpath)\n",
    "# citilistdf.head()"
   ]
  },
  {
   "cell_type": "code",
   "execution_count": 28,
   "metadata": {},
   "outputs": [],
   "source": [
    "#weathermap url\n",
    "url = \"http://api.openweathermap.org/data/2.5/weather?\"\n",
    "# # Build query URL\n",
    "# query_url = url + \"appid=\" + api_key"
   ]
  },
  {
   "cell_type": "code",
   "execution_count": 29,
   "metadata": {},
   "outputs": [],
   "source": [
    "#Example to see if it works\n",
    "# Build query URL and request your results\n",
    "# will use Clevleand as example to see if query works\n",
    "\n",
    "# city = \"Cleveland\"\n",
    "query_url = f\"{url}appid={api_key}&q={city}\"\n",
    "\n",
    "# # Get weather data\n",
    "weather_response = requests.get(query_url)\n",
    "weather_json = weather_response.json()"
   ]
  },
  {
   "cell_type": "code",
   "execution_count": 7,
   "metadata": {},
   "outputs": [
    {
     "name": "stdout",
     "output_type": "stream",
     "text": [
      "{\n",
      "    \"base\": \"stations\",\n",
      "    \"clouds\": {\n",
      "        \"all\": 1\n",
      "    },\n",
      "    \"cod\": 200,\n",
      "    \"coord\": {\n",
      "        \"lat\": 41.51,\n",
      "        \"lon\": -81.69\n",
      "    },\n",
      "    \"dt\": 1568079355,\n",
      "    \"id\": 5150529,\n",
      "    \"main\": {\n",
      "        \"humidity\": 67,\n",
      "        \"pressure\": 1025,\n",
      "        \"temp\": 290.53,\n",
      "        \"temp_max\": 293.15,\n",
      "        \"temp_min\": 288.15\n",
      "    },\n",
      "    \"name\": \"Cleveland\",\n",
      "    \"sys\": {\n",
      "        \"country\": \"US\",\n",
      "        \"id\": 4728,\n",
      "        \"message\": 0.01,\n",
      "        \"sunrise\": 1568026854,\n",
      "        \"sunset\": 1568072867,\n",
      "        \"type\": 1\n",
      "    },\n",
      "    \"timezone\": -14400,\n",
      "    \"visibility\": 16093,\n",
      "    \"weather\": [\n",
      "        {\n",
      "            \"description\": \"clear sky\",\n",
      "            \"icon\": \"01n\",\n",
      "            \"id\": 800,\n",
      "            \"main\": \"Clear\"\n",
      "        }\n",
      "    ],\n",
      "    \"wind\": {\n",
      "        \"deg\": 100,\n",
      "        \"speed\": 1.5\n",
      "    }\n",
      "}\n"
     ]
    }
   ],
   "source": [
    "#pretty print\n",
    "print(json.dumps(weather_json, indent=4, sort_keys=True))"
   ]
  },
  {
   "cell_type": "markdown",
   "metadata": {},
   "source": [
    "### Perform API Calls\n",
    "* Perform a weather check on each city using a series of successive API calls.\n",
    "* Include a print log of each city as it'sbeing processed (with the city number and city name).\n"
   ]
  },
  {
   "cell_type": "code",
   "execution_count": 30,
   "metadata": {},
   "outputs": [
    {
     "name": "stdout",
     "output_type": "stream",
     "text": [
      "Port Elizabeth,US,port elizabeth\n",
      "http://api.openweathermap.org/data/2.5/weather?&id=port elizabeth\n",
      "Albany,US,albany\n",
      "http://api.openweathermap.org/data/2.5/weather?&id=albany\n",
      "Narsaq,GL,narsaq\n",
      "http://api.openweathermap.org/data/2.5/weather?&id=narsaq\n"
     ]
    },
    {
     "ename": "KeyError",
     "evalue": "'name'",
     "output_type": "error",
     "traceback": [
      "\u001b[1;31m---------------------------------------------------------------------------\u001b[0m",
      "\u001b[1;31mKeyError\u001b[0m                                  Traceback (most recent call last)",
      "\u001b[1;32m<ipython-input-30-99b178ce9bbb>\u001b[0m in \u001b[0;36m<module>\u001b[1;34m\u001b[0m\n\u001b[0;32m     23\u001b[0m \u001b[1;33m\u001b[0m\u001b[0m\n\u001b[0;32m     24\u001b[0m     \u001b[1;31m#find and append proper piece of data from the weather data to the list\u001b[0m\u001b[1;33m\u001b[0m\u001b[1;33m\u001b[0m\u001b[1;33m\u001b[0m\u001b[0m\n\u001b[1;32m---> 25\u001b[1;33m     \u001b[0mnamelist\u001b[0m\u001b[1;33m.\u001b[0m\u001b[0mappend\u001b[0m\u001b[1;33m(\u001b[0m\u001b[0mweather_json\u001b[0m\u001b[1;33m[\u001b[0m\u001b[1;34m'name'\u001b[0m\u001b[1;33m]\u001b[0m\u001b[1;33m)\u001b[0m\u001b[1;33m\u001b[0m\u001b[1;33m\u001b[0m\u001b[0m\n\u001b[0m\u001b[0;32m     26\u001b[0m     \u001b[0mcityidlist\u001b[0m\u001b[1;33m.\u001b[0m\u001b[0mappend\u001b[0m\u001b[1;33m(\u001b[0m\u001b[0mweather_json\u001b[0m\u001b[1;33m[\u001b[0m\u001b[1;34m'id'\u001b[0m\u001b[1;33m]\u001b[0m\u001b[1;33m)\u001b[0m\u001b[1;33m\u001b[0m\u001b[1;33m\u001b[0m\u001b[0m\n\u001b[0;32m     27\u001b[0m     \u001b[0mlatitudelist\u001b[0m\u001b[1;33m.\u001b[0m\u001b[0mappend\u001b[0m\u001b[1;33m(\u001b[0m\u001b[0mweather_json\u001b[0m\u001b[1;33m[\u001b[0m\u001b[1;34m'coord'\u001b[0m\u001b[1;33m]\u001b[0m\u001b[1;33m[\u001b[0m\u001b[1;34m'lat'\u001b[0m\u001b[1;33m]\u001b[0m\u001b[1;33m)\u001b[0m\u001b[1;33m\u001b[0m\u001b[1;33m\u001b[0m\u001b[0m\n",
      "\u001b[1;31mKeyError\u001b[0m: 'name'"
     ]
    }
   ],
   "source": [
    "#create lits to store the data necessary for plots\n",
    "namelist = []\n",
    "cityidlist = []\n",
    "latitudelist = []\n",
    "temperaturelist = []\n",
    "humiditylist = []\n",
    "cloudinesslist = []\n",
    "windspeedlist = []\n",
    "countrylist = []\n",
    "\n",
    "#loop through list:\n",
    "for city in cities:\n",
    "    #Construct query url using base url, api key, and the current city id\n",
    "#     query_url = url + \"&appid=\" + api_key + \"&id=\" + str(city)\n",
    "    query_url = f\"{url}appid={api_key}&q={city}\"\n",
    "    weather_json = requests.get(query_url).json()\n",
    "    #convert to json\n",
    "#     weather_response = requests.get(query_url)\n",
    "#     weather_json = weather_response.json()\n",
    "#     name = weather_json['name']\n",
    "#     country_code = city.country_code\n",
    "#     name = city.city_name\n",
    "\n",
    "    #find and append proper piece of data from the weather data to the list\n",
    "    namelist.append(weather_json['name'])\n",
    "    cityidlist.append(weather_json['id'])\n",
    "    latitudelist.append(weather_json['coord']['lat'])\n",
    "    temperaturelist.append(weather_json['main']['temp'])\n",
    "    humiditylist.append(weather_json['main']['humidity'])\n",
    "    cloudinesslist.append(weather_json['clouds']['all'])\n",
    "    windspeedlist.append(weather_json['wind']['speed'])\n",
    "    countrylist.append(weather_json['sys']['country'])\n",
    "    #print City Name, Country Code, City ID and URL without API Key\n",
    "    print(weather_json['name']+\",\"+weather_json['sys']['country']+\",\"+str(city))\n",
    "    print(url+\"&id=\"+str(city))\n",
    "\n"
   ]
  },
  {
   "cell_type": "markdown",
   "metadata": {},
   "source": [
    "### Convert Raw Data to DataFrame\n",
    "* Export the city data into a .csv.\n",
    "* Display the DataFrame"
   ]
  },
  {
   "cell_type": "code",
   "execution_count": 31,
   "metadata": {},
   "outputs": [
    {
     "data": {
      "text/html": [
       "<div>\n",
       "<style scoped>\n",
       "    .dataframe tbody tr th:only-of-type {\n",
       "        vertical-align: middle;\n",
       "    }\n",
       "\n",
       "    .dataframe tbody tr th {\n",
       "        vertical-align: top;\n",
       "    }\n",
       "\n",
       "    .dataframe thead th {\n",
       "        text-align: right;\n",
       "    }\n",
       "</style>\n",
       "<table border=\"1\" class=\"dataframe\">\n",
       "  <thead>\n",
       "    <tr style=\"text-align: right;\">\n",
       "      <th></th>\n",
       "      <th>Name</th>\n",
       "      <th>ID</th>\n",
       "      <th>Country</th>\n",
       "      <th>Temperature (F)</th>\n",
       "      <th>Latitude (Deg)</th>\n",
       "      <th>Humidity (%)</th>\n",
       "      <th>Cloudiness (%)</th>\n",
       "      <th>Wind Speed (mph)</th>\n",
       "    </tr>\n",
       "  </thead>\n",
       "  <tbody>\n",
       "    <tr>\n",
       "      <th>0</th>\n",
       "      <td>Port Elizabeth</td>\n",
       "      <td>4501427</td>\n",
       "      <td>US</td>\n",
       "      <td>298.13</td>\n",
       "      <td>39.31</td>\n",
       "      <td>61</td>\n",
       "      <td>1</td>\n",
       "      <td>2.6</td>\n",
       "    </tr>\n",
       "    <tr>\n",
       "      <th>1</th>\n",
       "      <td>Albany</td>\n",
       "      <td>5106834</td>\n",
       "      <td>US</td>\n",
       "      <td>295.26</td>\n",
       "      <td>42.65</td>\n",
       "      <td>73</td>\n",
       "      <td>75</td>\n",
       "      <td>2.1</td>\n",
       "    </tr>\n",
       "    <tr>\n",
       "      <th>2</th>\n",
       "      <td>Narsaq</td>\n",
       "      <td>3421719</td>\n",
       "      <td>GL</td>\n",
       "      <td>281.15</td>\n",
       "      <td>60.91</td>\n",
       "      <td>61</td>\n",
       "      <td>100</td>\n",
       "      <td>4.1</td>\n",
       "    </tr>\n",
       "  </tbody>\n",
       "</table>\n",
       "</div>"
      ],
      "text/plain": [
       "             Name       ID Country  Temperature (F)  Latitude (Deg)  \\\n",
       "0  Port Elizabeth  4501427      US           298.13           39.31   \n",
       "1          Albany  5106834      US           295.26           42.65   \n",
       "2          Narsaq  3421719      GL           281.15           60.91   \n",
       "\n",
       "   Humidity (%)  Cloudiness (%)  Wind Speed (mph)  \n",
       "0            61               1               2.6  \n",
       "1            73              75               2.1  \n",
       "2            61             100               4.1  "
      ]
     },
     "execution_count": 31,
     "metadata": {},
     "output_type": "execute_result"
    }
   ],
   "source": [
    "#Create a dictionary to store all the collected data\n",
    "weather_dict = {\n",
    "    'Name': namelist,\n",
    "    'ID': cityidlist,\n",
    "    'Country': countrylist,\n",
    "    'Cloudiness (%)': cloudinesslist,\n",
    "    'Temperature (F)': temperaturelist,\n",
    "    'Latitude (Deg)': latitudelist,\n",
    "    'Humidity (%)': humiditylist,\n",
    "    'Wind Speed (mph)': windspeedlist\n",
    "}\n",
    "#Convert to dataframe and label columns\n",
    "weatherdf = pd.DataFrame(weather_dict, columns=('Name','ID', 'Country','Temperature (F)','Latitude (Deg)','Humidity (%)','Cloudiness (%)','Wind Speed (mph)'))\n",
    "weatherdf.head()\n",
    "\n"
   ]
  },
  {
   "cell_type": "code",
   "execution_count": 18,
   "metadata": {},
   "outputs": [],
   "source": [
    "#Convert this dataframe to a csv and put in in the Output folder\n",
    "# weatherdf.to_csv(\"output_data/cities.csv\")"
   ]
  },
  {
   "cell_type": "code",
   "execution_count": null,
   "metadata": {},
   "outputs": [],
   "source": []
  },
  {
   "cell_type": "markdown",
   "metadata": {},
   "source": [
    "### Plotting the Data\n",
    "* Use proper labeling of the plots using plot titles (including date of analysis) and axes labels.\n",
    "* Save the plotted figures as .pngs."
   ]
  },
  {
   "cell_type": "markdown",
   "metadata": {},
   "source": [
    "#### Latitude vs. Temperature Plot"
   ]
  },
  {
   "cell_type": "code",
   "execution_count": 32,
   "metadata": {},
   "outputs": [
    {
     "data": {
      "image/png": "[encoded data removed]",
      "text/plain": [
       "<Figure size 432x288 with 1 Axes>"
      ]
     },
     "metadata": {
      "needs_background": "light"
     },
     "output_type": "display_data"
    }
   ],
   "source": [
    "#Create Scatter Plot\n",
    "plt.scatter(latitudelist, temperaturelist, marker=\"o\", facecolors=\"red\", edgecolors=\"black\", alpha=0.75)\n",
    "plt.xlabel(\"Latitude (Degrees)\")\n",
    "plt.ylabel(\"Temperature (Fahrenheit)\")\n",
    "plt.title(\"City Latitude vs Average Temperature on 8/22/2018\")\n",
    "# plt.savefig(\"Output/Latitude_vs_Temperature\")\n",
    "#plt.grid()\n",
    "plt.show()"
   ]
  },
  {
   "cell_type": "markdown",
   "metadata": {},
   "source": [
    "#### Latitude vs. Humidity Plot"
   ]
  },
  {
   "cell_type": "code",
   "execution_count": 33,
   "metadata": {},
   "outputs": [
    {
     "data": {
      "image/png": "[encoded data removed]",
      "text/plain": [
       "<Figure size 432x288 with 1 Axes>"
      ]
     },
     "metadata": {
      "needs_background": "light"
     },
     "output_type": "display_data"
    }
   ],
   "source": [
    "#Create Scatter Plot\n",
    "plt.scatter(latitudelist, humiditylist, marker=\"o\", facecolors=\"green\", edgecolors=\"black\", alpha=0.75)\n",
    "plt.xlabel(\"Latitude (Degrees)\")\n",
    "plt.ylabel(\"Humidity (%)\")\n",
    "plt.title(\"City Latitude vs Humidity on 8/22/2018\")\n",
    "# plt.savefig(\"Output/Latitude_vs_Humidity\")\n",
    "#plt.grid()\n",
    "plt.show()"
   ]
  },
  {
   "cell_type": "markdown",
   "metadata": {},
   "source": [
    "#### Latitude vs. Cloudiness Plot"
   ]
  },
  {
   "cell_type": "code",
   "execution_count": 34,
   "metadata": {},
   "outputs": [
    {
     "data": {
      "image/png": "[encoded data removed]",
      "text/plain": [
       "<Figure size 432x288 with 1 Axes>"
      ]
     },
     "metadata": {
      "needs_background": "light"
     },
     "output_type": "display_data"
    }
   ],
   "source": [
    "#Create Scatter Plot\n",
    "plt.scatter(latitudelist, cloudinesslist, marker=\"o\", facecolors=\"blue\", edgecolors=\"black\", alpha=0.75)\n",
    "plt.xlabel(\"Latitude (Degrees)\")\n",
    "plt.ylabel(\"Cloudiness (%)\")\n",
    "plt.title(\"City Latitude vs Cloudiness on 8/22/2018\")\n",
    "# plt.savefig(\"Output/Latitude_vs_Cloudiness\")\n",
    "#plt.grid()\n",
    "plt.show()"
   ]
  },
  {
   "cell_type": "markdown",
   "metadata": {},
   "source": [
    "#### Latitude vs. Wind Speed Plot"
   ]
  },
  {
   "cell_type": "code",
   "execution_count": 35,
   "metadata": {},
   "outputs": [
    {
     "data": {
      "image/png": "[encoded data removed]",
      "text/plain": [
       "<Figure size 432x288 with 1 Axes>"
      ]
     },
     "metadata": {
      "needs_background": "light"
     },
     "output_type": "display_data"
    }
   ],
   "source": [
    "#Create Scatter Plot\n",
    "plt.scatter(latitudelist, windspeedlist, marker=\"o\", facecolors=\"purple\", edgecolors=\"black\", alpha=0.75)\n",
    "plt.xlabel(\"Latitude (Degrees)\")\n",
    "plt.ylabel(\"Wind Speed (mph)\")\n",
    "plt.title(\"City Latitude vs Wind Speed on 8/22/2018\")\n",
    "# plt.savefig(\"Output/Latitude_vs_Wind_Speed\")\n",
    "#plt.grid()\n",
    "plt.show()"
   ]
  },
  {
   "cell_type": "code",
   "execution_count": null,
   "metadata": {},
   "outputs": [],
   "source": [
    "#Three Observations\n",
    "# 1. Latitude influences temperature. The further the latitude, the colder the temperature\n",
    "# 2. Humidity and cloudiness did not seem to be influenced by latitude\n",
    "# 3. Latitude influenced wind speed\n"
   ]
  }
 ],
 "metadata": {
  "anaconda-cloud": {},
  "kernel_info": {
   "name": "python3"
  },
  "kernelspec": {
   "display_name": "Python 3",
   "language": "python",
   "name": "python3"
  },
  "language_info": {
   "codemirror_mode": {
    "name": "ipython",
    "version": 3
   },
   "file_extension": ".py",
   "mimetype": "text/x-python",
   "name": "python",
   "nbconvert_exporter": "python",
   "pygments_lexer": "ipython3",
   "version": "3.7.3"
  },
  "nteract": {
   "version": "0.12.3"
  }
 },
 "nbformat": 4,
 "nbformat_minor": 2
}
